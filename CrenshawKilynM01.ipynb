{
 "cells": [
  {
   "cell_type": "code",
   "execution_count": 2,
   "metadata": {},
   "outputs": [
    {
     "name": "stdout",
     "output_type": "stream",
     "text": [
      "3600\n",
      "86400\n",
      "24.0\n",
      "24\n"
     ]
    }
   ],
   "source": [
    "# 3.1 \n",
    "print(60*60)\n",
    "# 3.2 \n",
    "seconds_per_hour = (60*60)\n",
    "# 3.3 \n",
    "print(24*seconds_per_hour)\n",
    "# 3.4 \n",
    "seconds_per_day = (24*seconds_per_hour)\n",
    "# 3.5\n",
    "print(float (seconds_per_day/seconds_per_hour))\n",
    "# 3.6\n",
    "print(seconds_per_day//seconds_per_hour)\n",
    "# Numbers are the same "
   ]
  }
 ],
 "metadata": {
  "kernelspec": {
   "display_name": "Python 3",
   "language": "python",
   "name": "python3"
  },
  "language_info": {
   "codemirror_mode": {
    "name": "ipython",
    "version": 3
   },
   "file_extension": ".py",
   "mimetype": "text/x-python",
   "name": "python",
   "nbconvert_exporter": "python",
   "pygments_lexer": "ipython3",
   "version": "3.11.7"
  }
 },
 "nbformat": 4,
 "nbformat_minor": 2
}
